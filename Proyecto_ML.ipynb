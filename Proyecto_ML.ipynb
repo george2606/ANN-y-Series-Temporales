{
  "nbformat": 4,
  "nbformat_minor": 0,
  "metadata": {
    "kernelspec": {
      "display_name": "Python 3",
      "language": "python",
      "name": "python3"
    },
    "language_info": {
      "codemirror_mode": {
        "name": "ipython",
        "version": 3
      },
      "file_extension": ".py",
      "mimetype": "text/x-python",
      "name": "python",
      "nbconvert_exporter": "python",
      "pygments_lexer": "ipython3",
      "version": "3.5.0"
    },
    "colab": {
      "name": "Proyecto Machine Learning_Final_TAA.ipynb",
      "provenance": [],
      "collapsed_sections": [
        "TSLmM_gKdYER",
        "YN5wzT5LdYEq",
        "AC-CBgl3dYE9",
        "PULgM4-TdYFO",
        "6LJv3LwbdYFT"
      ]
    }
  },
  "cells": [
    {
      "cell_type": "code",
      "metadata": {
        "id": "1hdV3yFIdYDp",
        "colab_type": "code",
        "colab": {
          "base_uri": "https://localhost:8080/",
          "height": 34
        },
        "outputId": "c63ffd70-b238-45e7-a1ff-a5dc525f78ad"
      },
      "source": [
        "import pandas as pd\n",
        "import numpy as np\n",
        "import matplotlib.pyplot as plt \n",
        "from sklearn.linear_model import LogisticRegression \n",
        "from keras.models import Sequential \n",
        "from keras.layers import Dense\n",
        "from keras.regularizers import l2"
      ],
      "execution_count": 1,
      "outputs": [
        {
          "output_type": "stream",
          "text": [
            "Using TensorFlow backend.\n"
          ],
          "name": "stderr"
        }
      ]
    },
    {
      "cell_type": "code",
      "metadata": {
        "id": "R4xJwo-9dYDs",
        "colab_type": "code",
        "colab": {
          "resources": {
            "http://localhost:8080/nbextensions/google.colab/files.js": {
              "data": "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",
              "ok": true,
              "headers": [
                [
                  "content-type",
                  "application/javascript"
                ]
              ],
              "status": 200,
              "status_text": ""
            }
          },
          "base_uri": "https://localhost:8080/",
          "height": 259
        },
        "outputId": "2af504e6-cac5-4645-e862-8e0453601491"
      },
      "source": [
        "# Lectura de datos\n",
        "from google.colab import files\n",
        "\n",
        "uploaded = files.upload()\n",
        "import pandas as pd\n",
        "import io\n",
        "\n",
        "data = pd.read_csv(io.StringIO(uploaded['Risk.csv'].decode('utf-8')),sep='\\t')\n",
        "\n",
        "data.head()"
      ],
      "execution_count": 5,
      "outputs": [
        {
          "output_type": "display_data",
          "data": {
            "text/html": [
              "\n",
              "     <input type=\"file\" id=\"files-a5fe929e-87b3-4bbe-b521-0affe6471aca\" name=\"files[]\" multiple disabled\n",
              "        style=\"border:none\" />\n",
              "     <output id=\"result-a5fe929e-87b3-4bbe-b521-0affe6471aca\">\n",
              "      Upload widget is only available when the cell has been executed in the\n",
              "      current browser session. Please rerun this cell to enable.\n",
              "      </output>\n",
              "      <script src=\"/nbextensions/google.colab/files.js\"></script> "
            ],
            "text/plain": [
              "<IPython.core.display.HTML object>"
            ]
          },
          "metadata": {
            "tags": []
          }
        },
        {
          "output_type": "stream",
          "text": [
            "Saving Risk.csv to Risk (1).csv\n"
          ],
          "name": "stdout"
        },
        {
          "output_type": "execute_result",
          "data": {
            "text/html": [
              "<div>\n",
              "<style scoped>\n",
              "    .dataframe tbody tr th:only-of-type {\n",
              "        vertical-align: middle;\n",
              "    }\n",
              "\n",
              "    .dataframe tbody tr th {\n",
              "        vertical-align: top;\n",
              "    }\n",
              "\n",
              "    .dataframe thead th {\n",
              "        text-align: right;\n",
              "    }\n",
              "</style>\n",
              "<table border=\"1\" class=\"dataframe\">\n",
              "  <thead>\n",
              "    <tr style=\"text-align: right;\">\n",
              "      <th></th>\n",
              "      <th>Edad</th>\n",
              "      <th>Ingresos</th>\n",
              "      <th>Genero</th>\n",
              "      <th>EstadoCivil</th>\n",
              "      <th>NumeroHijos</th>\n",
              "      <th>FormaPagoSalarial</th>\n",
              "      <th>Prestamos</th>\n",
              "      <th>RiesgoDePago</th>\n",
              "      <th>deudas</th>\n",
              "    </tr>\n",
              "  </thead>\n",
              "  <tbody>\n",
              "    <tr>\n",
              "      <th>0</th>\n",
              "      <td>44</td>\n",
              "      <td>59.944</td>\n",
              "      <td>m</td>\n",
              "      <td>married</td>\n",
              "      <td>1.0</td>\n",
              "      <td>monthly</td>\n",
              "      <td>0.0</td>\n",
              "      <td>bueno</td>\n",
              "      <td>5.0</td>\n",
              "    </tr>\n",
              "    <tr>\n",
              "      <th>1</th>\n",
              "      <td>35</td>\n",
              "      <td>59.692</td>\n",
              "      <td>m</td>\n",
              "      <td>married</td>\n",
              "      <td>1.0</td>\n",
              "      <td>monthly</td>\n",
              "      <td>0.0</td>\n",
              "      <td>malo</td>\n",
              "      <td>3.0</td>\n",
              "    </tr>\n",
              "    <tr>\n",
              "      <th>2</th>\n",
              "      <td>34</td>\n",
              "      <td>59.463</td>\n",
              "      <td>m</td>\n",
              "      <td>married</td>\n",
              "      <td>0.0</td>\n",
              "      <td>monthly</td>\n",
              "      <td>1.0</td>\n",
              "      <td>malo</td>\n",
              "      <td>4.0</td>\n",
              "    </tr>\n",
              "    <tr>\n",
              "      <th>3</th>\n",
              "      <td>39</td>\n",
              "      <td>59.393</td>\n",
              "      <td>f</td>\n",
              "      <td>married</td>\n",
              "      <td>0.0</td>\n",
              "      <td>monthly</td>\n",
              "      <td>0.0</td>\n",
              "      <td>bueno</td>\n",
              "      <td>4.0</td>\n",
              "    </tr>\n",
              "    <tr>\n",
              "      <th>4</th>\n",
              "      <td>42</td>\n",
              "      <td>59.201</td>\n",
              "      <td>m</td>\n",
              "      <td>married</td>\n",
              "      <td>0.0</td>\n",
              "      <td>monthly</td>\n",
              "      <td>0.0</td>\n",
              "      <td>bueno</td>\n",
              "      <td>4.0</td>\n",
              "    </tr>\n",
              "  </tbody>\n",
              "</table>\n",
              "</div>"
            ],
            "text/plain": [
              "   Edad  Ingresos Genero  ... Prestamos  RiesgoDePago deudas\n",
              "0    44    59.944      m  ...       0.0         bueno    5.0\n",
              "1    35    59.692      m  ...       0.0          malo    3.0\n",
              "2    34    59.463      m  ...       1.0          malo    4.0\n",
              "3    39    59.393      f  ...       0.0         bueno    4.0\n",
              "4    42    59.201      m  ...       0.0         bueno    4.0\n",
              "\n",
              "[5 rows x 9 columns]"
            ]
          },
          "metadata": {
            "tags": []
          },
          "execution_count": 5
        }
      ]
    },
    {
      "cell_type": "markdown",
      "metadata": {
        "id": "cMl5WbAidYDu",
        "colab_type": "text"
      },
      "source": [
        "## Exploración de la base"
      ]
    },
    {
      "cell_type": "code",
      "metadata": {
        "id": "el9VDy_ZdYDv",
        "colab_type": "code",
        "colab": {
          "base_uri": "https://localhost:8080/",
          "height": 187
        },
        "outputId": "4419bdc4-fca4-478b-f46b-8dd49ac616e0"
      },
      "source": [
        "# Verificación de no existencia de datos NA \n",
        "data.isnull().sum()"
      ],
      "execution_count": 6,
      "outputs": [
        {
          "output_type": "execute_result",
          "data": {
            "text/plain": [
              "Edad                 0\n",
              "Ingresos             0\n",
              "Genero               0\n",
              "EstadoCivil          0\n",
              "NumeroHijos          0\n",
              "FormaPagoSalarial    0\n",
              "Prestamos            0\n",
              "RiesgoDePago         0\n",
              "deudas               0\n",
              "dtype: int64"
            ]
          },
          "metadata": {
            "tags": []
          },
          "execution_count": 6
        }
      ]
    },
    {
      "cell_type": "markdown",
      "metadata": {
        "id": "qtmayKC9dYDx",
        "colab_type": "text"
      },
      "source": [
        "## Equilibrar la data\n",
        "\n",
        "Debido a que la proporcion de las categorias de nuestra target no se encuentra equilibrada.\n"
      ]
    },
    {
      "cell_type": "code",
      "metadata": {
        "id": "ESHl7mapdYDy",
        "colab_type": "code",
        "colab": {
          "base_uri": "https://localhost:8080/",
          "height": 111
        },
        "outputId": "4c629a38-b7db-4797-eb48-fe5d894911dc"
      },
      "source": [
        "frecuencia = pd.value_counts(data.RiesgoDePago).to_frame().reset_index()\n",
        "frecuencia.rename(columns={\"index\":\"RiesgoDePago\",\"RiesgoDePago\":\"Frecuencia\"})"
      ],
      "execution_count": 8,
      "outputs": [
        {
          "output_type": "execute_result",
          "data": {
            "text/html": [
              "<div>\n",
              "<style scoped>\n",
              "    .dataframe tbody tr th:only-of-type {\n",
              "        vertical-align: middle;\n",
              "    }\n",
              "\n",
              "    .dataframe tbody tr th {\n",
              "        vertical-align: top;\n",
              "    }\n",
              "\n",
              "    .dataframe thead th {\n",
              "        text-align: right;\n",
              "    }\n",
              "</style>\n",
              "<table border=\"1\" class=\"dataframe\">\n",
              "  <thead>\n",
              "    <tr style=\"text-align: right;\">\n",
              "      <th></th>\n",
              "      <th>RiesgoDePago</th>\n",
              "      <th>Frecuencia</th>\n",
              "    </tr>\n",
              "  </thead>\n",
              "  <tbody>\n",
              "    <tr>\n",
              "      <th>0</th>\n",
              "      <td>bueno</td>\n",
              "      <td>3211</td>\n",
              "    </tr>\n",
              "    <tr>\n",
              "      <th>1</th>\n",
              "      <td>malo</td>\n",
              "      <td>906</td>\n",
              "    </tr>\n",
              "  </tbody>\n",
              "</table>\n",
              "</div>"
            ],
            "text/plain": [
              "  RiesgoDePago  Frecuencia\n",
              "0        bueno        3211\n",
              "1         malo         906"
            ]
          },
          "metadata": {
            "tags": []
          },
          "execution_count": 8
        }
      ]
    },
    {
      "cell_type": "markdown",
      "metadata": {
        "id": "H3kKVnwOdYD1",
        "colab_type": "text"
      },
      "source": [
        "Se procede a sacar una muestra de los buenos pagadores para lograr ese equilibro."
      ]
    },
    {
      "cell_type": "code",
      "metadata": {
        "id": "80JrJ8FBdYD1",
        "colab_type": "code",
        "colab": {}
      },
      "source": [
        "#Separar los buenos de los malos\n",
        "data_malos = data.loc[data['RiesgoDePago'] == 'malo']\n",
        "data_buenos = data.loc[data['RiesgoDePago'] == 'bueno']\n",
        "\n",
        "#Se saca una muestra de aproximadamente el 28% de Riesgo de pago: 'buenos' (porcentaje de malos respecto a los buenos, \n",
        "#mediante muestra aleatoria simple)\n",
        "data_buenos_subset = data_buenos.sample(frac=(906/3211), random_state=1) "
      ],
      "execution_count": 9,
      "outputs": []
    },
    {
      "cell_type": "code",
      "metadata": {
        "id": "Yzj8Rp_fdYD3",
        "colab_type": "code",
        "colab": {
          "base_uri": "https://localhost:8080/",
          "height": 204
        },
        "outputId": "cf9c1498-4dc0-4ca8-bcfa-86306165714d"
      },
      "source": [
        "data_buenos_subset.head()"
      ],
      "execution_count": 10,
      "outputs": [
        {
          "output_type": "execute_result",
          "data": {
            "text/html": [
              "<div>\n",
              "<style scoped>\n",
              "    .dataframe tbody tr th:only-of-type {\n",
              "        vertical-align: middle;\n",
              "    }\n",
              "\n",
              "    .dataframe tbody tr th {\n",
              "        vertical-align: top;\n",
              "    }\n",
              "\n",
              "    .dataframe thead th {\n",
              "        text-align: right;\n",
              "    }\n",
              "</style>\n",
              "<table border=\"1\" class=\"dataframe\">\n",
              "  <thead>\n",
              "    <tr style=\"text-align: right;\">\n",
              "      <th></th>\n",
              "      <th>Edad</th>\n",
              "      <th>Ingresos</th>\n",
              "      <th>Genero</th>\n",
              "      <th>EstadoCivil</th>\n",
              "      <th>NumeroHijos</th>\n",
              "      <th>FormaPagoSalarial</th>\n",
              "      <th>Prestamos</th>\n",
              "      <th>RiesgoDePago</th>\n",
              "      <th>deudas</th>\n",
              "    </tr>\n",
              "  </thead>\n",
              "  <tbody>\n",
              "    <tr>\n",
              "      <th>3917</th>\n",
              "      <td>22</td>\n",
              "      <td>17.193</td>\n",
              "      <td>m</td>\n",
              "      <td>single</td>\n",
              "      <td>1.0</td>\n",
              "      <td>monthly</td>\n",
              "      <td>1.0</td>\n",
              "      <td>bueno</td>\n",
              "      <td>4.0</td>\n",
              "    </tr>\n",
              "    <tr>\n",
              "      <th>2537</th>\n",
              "      <td>34</td>\n",
              "      <td>44.617</td>\n",
              "      <td>f</td>\n",
              "      <td>married</td>\n",
              "      <td>1.0</td>\n",
              "      <td>monthly</td>\n",
              "      <td>1.0</td>\n",
              "      <td>bueno</td>\n",
              "      <td>5.0</td>\n",
              "    </tr>\n",
              "    <tr>\n",
              "      <th>213</th>\n",
              "      <td>36</td>\n",
              "      <td>42.175</td>\n",
              "      <td>m</td>\n",
              "      <td>married</td>\n",
              "      <td>0.0</td>\n",
              "      <td>monthly</td>\n",
              "      <td>1.0</td>\n",
              "      <td>bueno</td>\n",
              "      <td>3.0</td>\n",
              "    </tr>\n",
              "    <tr>\n",
              "      <th>2298</th>\n",
              "      <td>18</td>\n",
              "      <td>16.394</td>\n",
              "      <td>f</td>\n",
              "      <td>married</td>\n",
              "      <td>1.0</td>\n",
              "      <td>monthly</td>\n",
              "      <td>1.0</td>\n",
              "      <td>bueno</td>\n",
              "      <td>5.0</td>\n",
              "    </tr>\n",
              "    <tr>\n",
              "      <th>981</th>\n",
              "      <td>20</td>\n",
              "      <td>24.519</td>\n",
              "      <td>m</td>\n",
              "      <td>married</td>\n",
              "      <td>1.0</td>\n",
              "      <td>weekly</td>\n",
              "      <td>1.0</td>\n",
              "      <td>bueno</td>\n",
              "      <td>5.0</td>\n",
              "    </tr>\n",
              "  </tbody>\n",
              "</table>\n",
              "</div>"
            ],
            "text/plain": [
              "      Edad  Ingresos Genero  ... Prestamos  RiesgoDePago deudas\n",
              "3917    22    17.193      m  ...       1.0         bueno    4.0\n",
              "2537    34    44.617      f  ...       1.0         bueno    5.0\n",
              "213     36    42.175      m  ...       1.0         bueno    3.0\n",
              "2298    18    16.394      f  ...       1.0         bueno    5.0\n",
              "981     20    24.519      m  ...       1.0         bueno    5.0\n",
              "\n",
              "[5 rows x 9 columns]"
            ]
          },
          "metadata": {
            "tags": []
          },
          "execution_count": 10
        }
      ]
    },
    {
      "cell_type": "code",
      "metadata": {
        "id": "sQZU6x0ddYD6",
        "colab_type": "code",
        "colab": {}
      },
      "source": [
        "#Unir ambos dataset (buenos y malos con 906 observaciones cada uno)\n",
        "data_equilibrado = pd.concat([data_buenos_subset, data_malos])\n",
        "\n",
        "# Solo por estrategia procedemos a ordenar las variables en orden genealogico\n",
        "random_data_equilibrado = data_equilibrado[['Genero', \n",
        "                                                   'Edad', \n",
        "                                                    'EstadoCivil',    \n",
        "                                                   'FormaPagoSalarial',\n",
        "                                                   'Ingresos', \n",
        "                                                   'NumeroHijos',\n",
        "                                                   'Prestamos',\n",
        "                                                   'RiesgoDePago',\n",
        "                                                   'deudas']]"
      ],
      "execution_count": 11,
      "outputs": []
    },
    {
      "cell_type": "code",
      "metadata": {
        "id": "nti7WOo0dYD8",
        "colab_type": "code",
        "colab": {
          "base_uri": "https://localhost:8080/",
          "height": 111
        },
        "outputId": "59778265-efc1-4965-8102-47c710a623bd"
      },
      "source": [
        "#Data equilibrada\n",
        "frecuencia = pd.value_counts(random_data_equilibrado.RiesgoDePago).to_frame().reset_index()\n",
        "frecuencia.rename(columns={\"index\":\"RiesgoDePago\",\"RiesgoDePago\":\"Frecuencia\"})"
      ],
      "execution_count": 12,
      "outputs": [
        {
          "output_type": "execute_result",
          "data": {
            "text/html": [
              "<div>\n",
              "<style scoped>\n",
              "    .dataframe tbody tr th:only-of-type {\n",
              "        vertical-align: middle;\n",
              "    }\n",
              "\n",
              "    .dataframe tbody tr th {\n",
              "        vertical-align: top;\n",
              "    }\n",
              "\n",
              "    .dataframe thead th {\n",
              "        text-align: right;\n",
              "    }\n",
              "</style>\n",
              "<table border=\"1\" class=\"dataframe\">\n",
              "  <thead>\n",
              "    <tr style=\"text-align: right;\">\n",
              "      <th></th>\n",
              "      <th>RiesgoDePago</th>\n",
              "      <th>Frecuencia</th>\n",
              "    </tr>\n",
              "  </thead>\n",
              "  <tbody>\n",
              "    <tr>\n",
              "      <th>0</th>\n",
              "      <td>bueno</td>\n",
              "      <td>906</td>\n",
              "    </tr>\n",
              "    <tr>\n",
              "      <th>1</th>\n",
              "      <td>malo</td>\n",
              "      <td>906</td>\n",
              "    </tr>\n",
              "  </tbody>\n",
              "</table>\n",
              "</div>"
            ],
            "text/plain": [
              "  RiesgoDePago  Frecuencia\n",
              "0        bueno         906\n",
              "1         malo         906"
            ]
          },
          "metadata": {
            "tags": []
          },
          "execution_count": 12
        }
      ]
    },
    {
      "cell_type": "markdown",
      "metadata": {
        "id": "rORDfoHqdYD9",
        "colab_type": "text"
      },
      "source": [
        "# Pruebas estadistícas: Comparación de medias y prueba Ji-cuadrado "
      ]
    },
    {
      "cell_type": "markdown",
      "metadata": {
        "id": "k8ke4tUZdYD-",
        "colab_type": "text"
      },
      "source": [
        "Una vez que se ha equilibrado la base, se procede a analizar que variables depende del Riesgo de pago, para ellos procedemos ha realizar pruebas estadísticas como: Comparación de medias y prueba Chi-cuadrado (dependiendo de la variable a tratar). "
      ]
    },
    {
      "cell_type": "code",
      "metadata": {
        "id": "xNVM84xRe2lh",
        "colab_type": "code",
        "colab": {}
      },
      "source": [
        "!pip install researchpy\n"
      ],
      "execution_count": null,
      "outputs": []
    },
    {
      "cell_type": "code",
      "metadata": {
        "id": "005mlNIXdYD-",
        "colab_type": "code",
        "colab": {}
      },
      "source": [
        "#Librerias\n",
        "import scipy.stats as stats\n",
        "import researchpy as rp\n",
        "import statsmodels.api as sm\n",
        "from statsmodels.formula.api import ols\n",
        "import matplotlib.pyplot as plt\n"
      ],
      "execution_count": 18,
      "outputs": []
    },
    {
      "cell_type": "code",
      "metadata": {
        "id": "quTSNan8dYEA",
        "colab_type": "code",
        "colab": {
          "base_uri": "https://localhost:8080/",
          "height": 34
        },
        "outputId": "3679b987-2c7c-4bff-9101-df7fa0eefa01"
      },
      "source": [
        "# comparacion de medias (Cualitativa-cuantitativa)\n",
        "#La comparación de medias en un sentido más general, abarca la comparación de los valores de una variable continua\n",
        "#según los valores de una variable (o factor) que se puede resumir en dos o más categorías y que \n",
        "# se engloba dentro de las pruebas para datos independientes\n",
        "\n",
        "#Hipótesis:\n",
        "#H0: No hay diferencia entre medias\n",
        "#H1: La diferencia entre medias existe en alguna parte\n",
        "#Si el valor p es menor que el nivel de significancia de 0.05, usted puede rechazar la hipótesis nula \n",
        "#y concluir que tienen medias diferentes.\n",
        "\n",
        "    #Edad\n",
        "stats.f_oneway(random_data_equilibrado['Edad'][random_data_equilibrado['RiesgoDePago'] == 'bueno'], \n",
        "             random_data_equilibrado['Edad'][random_data_equilibrado['RiesgoDePago'] == 'malo'])\n",
        "    # F_onewayResult(statistic=236.798716736885, pvalue=1.7544863401463463e-48)\n",
        "        \n",
        "    #Ingresos\n",
        "stats.f_oneway(random_data_equilibrado['Ingresos'][random_data_equilibrado['RiesgoDePago'] == 'bueno'], \n",
        "             random_data_equilibrado['Ingresos'][random_data_equilibrado['RiesgoDePago'] == 'malo'])\n",
        "#F_onewayResult(statistic=1.2022047854113147, pvalue=0.2731247544439312)\n",
        "\n",
        "    #NumeroHijos\n",
        "stats.f_oneway(random_data_equilibrado['NumeroHijos'][random_data_equilibrado['RiesgoDePago'] == 'bueno'], \n",
        "             random_data_equilibrado['NumeroHijos'][random_data_equilibrado['RiesgoDePago'] == 'malo'])\n",
        "#F_onewayResult(statistic=162.73895797621637, pvalue=7.894482576404779e-35)    \n",
        "\n",
        "    #deudas\n",
        "stats.f_oneway(random_data_equilibrado['deudas'][random_data_equilibrado['RiesgoDePago'] == 'bueno'], \n",
        "             random_data_equilibrado['deudas'][random_data_equilibrado['RiesgoDePago'] == 'malo'])\n",
        "#F_onewayResult(statistic=466.9803580798752, pvalue=2.5415873552138156e-92)\n"
      ],
      "execution_count": 19,
      "outputs": [
        {
          "output_type": "execute_result",
          "data": {
            "text/plain": [
              "F_onewayResult(statistic=466.9803580798752, pvalue=2.5415873552138156e-92)"
            ]
          },
          "metadata": {
            "tags": []
          },
          "execution_count": 19
        }
      ]
    },
    {
      "cell_type": "markdown",
      "metadata": {
        "id": "m-iX9NmZdYED",
        "colab_type": "text"
      },
      "source": [
        "De los resultados obtenidos, se puede observar que la variable ingresos no se deberia considerar en el modelo, pero esto no es posible. Por lo que procedemos a crear una nueva variable que la involucre, esta es ingresos por hijos. Esta variable solamente se crea cuando el numero de hijos es mayor a 0, caso contrario, el valor es 0."
      ]
    },
    {
      "cell_type": "code",
      "metadata": {
        "id": "F332VBqPdYED",
        "colab_type": "code",
        "colab": {
          "base_uri": "https://localhost:8080/",
          "height": 408
        },
        "outputId": "c6bc3129-bf41-409c-d1d5-1b2ef267275d"
      },
      "source": [
        "#Ingresos por hijos\n",
        "random_data_equilibrado['IngresosPorHijos'] = (random_data_equilibrado['Ingresos']/random_data_equilibrado['NumeroHijos'])\n",
        "\n",
        "#Para remover la palabra inf de la division por cero, usar replace\n",
        "random_data_equilibrado['IngresosPorHijos'] = random_data_equilibrado['IngresosPorHijos'].replace([np.inf, -np.inf], 0)\n",
        "\n",
        "#data_new1 = pd.DataFrame()\n",
        "random_data_equilibrado.head()"
      ],
      "execution_count": 20,
      "outputs": [
        {
          "output_type": "stream",
          "text": [
            "/usr/local/lib/python3.6/dist-packages/ipykernel_launcher.py:2: SettingWithCopyWarning: \n",
            "A value is trying to be set on a copy of a slice from a DataFrame.\n",
            "Try using .loc[row_indexer,col_indexer] = value instead\n",
            "\n",
            "See the caveats in the documentation: https://pandas.pydata.org/pandas-docs/stable/user_guide/indexing.html#returning-a-view-versus-a-copy\n",
            "  \n",
            "/usr/local/lib/python3.6/dist-packages/ipykernel_launcher.py:5: SettingWithCopyWarning: \n",
            "A value is trying to be set on a copy of a slice from a DataFrame.\n",
            "Try using .loc[row_indexer,col_indexer] = value instead\n",
            "\n",
            "See the caveats in the documentation: https://pandas.pydata.org/pandas-docs/stable/user_guide/indexing.html#returning-a-view-versus-a-copy\n",
            "  \"\"\"\n"
          ],
          "name": "stderr"
        },
        {
          "output_type": "execute_result",
          "data": {
            "text/html": [
              "<div>\n",
              "<style scoped>\n",
              "    .dataframe tbody tr th:only-of-type {\n",
              "        vertical-align: middle;\n",
              "    }\n",
              "\n",
              "    .dataframe tbody tr th {\n",
              "        vertical-align: top;\n",
              "    }\n",
              "\n",
              "    .dataframe thead th {\n",
              "        text-align: right;\n",
              "    }\n",
              "</style>\n",
              "<table border=\"1\" class=\"dataframe\">\n",
              "  <thead>\n",
              "    <tr style=\"text-align: right;\">\n",
              "      <th></th>\n",
              "      <th>Genero</th>\n",
              "      <th>Edad</th>\n",
              "      <th>EstadoCivil</th>\n",
              "      <th>FormaPagoSalarial</th>\n",
              "      <th>Ingresos</th>\n",
              "      <th>NumeroHijos</th>\n",
              "      <th>Prestamos</th>\n",
              "      <th>RiesgoDePago</th>\n",
              "      <th>deudas</th>\n",
              "      <th>IngresosPorHijos</th>\n",
              "    </tr>\n",
              "  </thead>\n",
              "  <tbody>\n",
              "    <tr>\n",
              "      <th>3917</th>\n",
              "      <td>m</td>\n",
              "      <td>22</td>\n",
              "      <td>single</td>\n",
              "      <td>monthly</td>\n",
              "      <td>17.193</td>\n",
              "      <td>1.0</td>\n",
              "      <td>1.0</td>\n",
              "      <td>bueno</td>\n",
              "      <td>4.0</td>\n",
              "      <td>17.193</td>\n",
              "    </tr>\n",
              "    <tr>\n",
              "      <th>2537</th>\n",
              "      <td>f</td>\n",
              "      <td>34</td>\n",
              "      <td>married</td>\n",
              "      <td>monthly</td>\n",
              "      <td>44.617</td>\n",
              "      <td>1.0</td>\n",
              "      <td>1.0</td>\n",
              "      <td>bueno</td>\n",
              "      <td>5.0</td>\n",
              "      <td>44.617</td>\n",
              "    </tr>\n",
              "    <tr>\n",
              "      <th>213</th>\n",
              "      <td>m</td>\n",
              "      <td>36</td>\n",
              "      <td>married</td>\n",
              "      <td>monthly</td>\n",
              "      <td>42.175</td>\n",
              "      <td>0.0</td>\n",
              "      <td>1.0</td>\n",
              "      <td>bueno</td>\n",
              "      <td>3.0</td>\n",
              "      <td>0.000</td>\n",
              "    </tr>\n",
              "    <tr>\n",
              "      <th>2298</th>\n",
              "      <td>f</td>\n",
              "      <td>18</td>\n",
              "      <td>married</td>\n",
              "      <td>monthly</td>\n",
              "      <td>16.394</td>\n",
              "      <td>1.0</td>\n",
              "      <td>1.0</td>\n",
              "      <td>bueno</td>\n",
              "      <td>5.0</td>\n",
              "      <td>16.394</td>\n",
              "    </tr>\n",
              "    <tr>\n",
              "      <th>981</th>\n",
              "      <td>m</td>\n",
              "      <td>20</td>\n",
              "      <td>married</td>\n",
              "      <td>weekly</td>\n",
              "      <td>24.519</td>\n",
              "      <td>1.0</td>\n",
              "      <td>1.0</td>\n",
              "      <td>bueno</td>\n",
              "      <td>5.0</td>\n",
              "      <td>24.519</td>\n",
              "    </tr>\n",
              "  </tbody>\n",
              "</table>\n",
              "</div>"
            ],
            "text/plain": [
              "     Genero  Edad EstadoCivil  ... RiesgoDePago  deudas  IngresosPorHijos\n",
              "3917      m    22      single  ...        bueno     4.0            17.193\n",
              "2537      f    34     married  ...        bueno     5.0            44.617\n",
              "213       m    36     married  ...        bueno     3.0             0.000\n",
              "2298      f    18     married  ...        bueno     5.0            16.394\n",
              "981       m    20     married  ...        bueno     5.0            24.519\n",
              "\n",
              "[5 rows x 10 columns]"
            ]
          },
          "metadata": {
            "tags": []
          },
          "execution_count": 20
        }
      ]
    },
    {
      "cell_type": "code",
      "metadata": {
        "id": "8nbEhb2bdYEG",
        "colab_type": "code",
        "colab": {
          "base_uri": "https://localhost:8080/",
          "height": 34
        },
        "outputId": "6c509273-45ad-4a69-c77d-d6c8a449ced3"
      },
      "source": [
        "    #'IngresosPorHijos'\n",
        "stats.f_oneway(random_data_equilibrado['IngresosPorHijos'][random_data_equilibrado['RiesgoDePago'] == 'bueno'], \n",
        "             random_data_equilibrado['IngresosPorHijos'][random_data_equilibrado['RiesgoDePago'] == 'malo'])\n",
        "#F_onewayResult(statistic=23.51792050343914, pvalue=1.3434353360311621e-06)"
      ],
      "execution_count": 21,
      "outputs": [
        {
          "output_type": "execute_result",
          "data": {
            "text/plain": [
              "F_onewayResult(statistic=23.51792050343914, pvalue=1.3434353360311621e-06)"
            ]
          },
          "metadata": {
            "tags": []
          },
          "execution_count": 21
        }
      ]
    },
    {
      "cell_type": "markdown",
      "metadata": {
        "id": "zzMlw5o8dYEI",
        "colab_type": "text"
      },
      "source": [
        "Como se observó anteriormente, la variable Ingresos no debe ser tomada encuenta, por lo que se procede a eliminarla"
      ]
    },
    {
      "cell_type": "code",
      "metadata": {
        "id": "y-fpHaGFdYEI",
        "colab_type": "code",
        "colab": {}
      },
      "source": [
        "del random_data_equilibrado['Ingresos']\n",
        "del random_data_equilibrado['NumeroHijos']"
      ],
      "execution_count": 22,
      "outputs": []
    },
    {
      "cell_type": "code",
      "metadata": {
        "id": "4IMJQe6AdYEK",
        "colab_type": "code",
        "colab": {}
      },
      "source": [
        "#Prueba Chi cuadrado\n",
        "#se utiliza cuando se tiene una muestra de n individuos que se clasifican respecto a dos variables, preferentemente \n",
        "#cualitativas (nominales dicotómicas o politómicas) y se desea conocer a partir de datos muestrales, si existe \n",
        "#asociación de estas a nivel poblacional.\n",
        "\n",
        "#Hipótesis:\n",
        "#H0: Existe poblacionalmente independencia entre las variables estudiadas \n",
        "#H1: No existe poblacionalmente independencia \n",
        "\n",
        "from scipy.stats import chisquare"
      ],
      "execution_count": 23,
      "outputs": []
    },
    {
      "cell_type": "code",
      "metadata": {
        "id": "AxccQaU3dYEM",
        "colab_type": "code",
        "colab": {
          "base_uri": "https://localhost:8080/",
          "height": 34
        },
        "outputId": "8015e423-9310-4227-ac28-c41b0ead6550"
      },
      "source": [
        "    #Genero    \n",
        "        #Datos observados \n",
        "        #Tabla de contingencia RiesgodePago/ Genero\n",
        "obs_genero=pd.crosstab(index=random_data_equilibrado['Genero'],\n",
        "            columns=random_data_equilibrado['RiesgoDePago'], margins=True)\n",
        "\n",
        "        #Datos esperados\n",
        "esper_genero=obs_genero\n",
        "esper_genero['bueno'][0]=(obs_genero['bueno']['All']*obs_genero['All'][0])/obs_genero['All']['All']\n",
        "esper_genero['bueno'][1]=(obs_genero['bueno']['All']*obs_genero['All'][1])/obs_genero['All']['All']\n",
        "esper_genero['malo'][0]=(obs_genero['malo']['All']*obs_genero['All'][0])/obs_genero['All']['All']\n",
        "esper_genero['malo'][1]=(obs_genero['malo']['All']*obs_genero['All'][1])/obs_genero['All']['All']\n",
        "\n",
        "        #Prueba chi-cuadrado\n",
        "observed = np.array([459,457,447,449])\n",
        "expected = np.array([458,458,448,448]) \n",
        "chisquare(observed, expected)\n",
        "\n",
        "#Power_divergenceResult(statistic=0.00883109794135995, pvalue=0.999779864258932)  \n",
        "\n",
        "    #EstadoCivil\n",
        "        #Datos observados\n",
        "        #Tabla de contingencia RiesgodePago/ EstadoCivil\n",
        "obs_EstadoCivil=pd.crosstab(index=random_data_equilibrado['EstadoCivil'],\n",
        "            columns=random_data_equilibrado['RiesgoDePago'], margins=True)\n",
        "\n",
        "         #Datos esperados\n",
        "esper_EstadoCivil=obs_EstadoCivil\n",
        "esper_EstadoCivil['bueno']['divsepwid']=(obs_EstadoCivil['bueno']['All']*obs_EstadoCivil['All']['divsepwid'])/obs_EstadoCivil['All']['All']\n",
        "esper_EstadoCivil['malo']['divsepwid']=(obs_EstadoCivil['bueno']['All']*obs_EstadoCivil['All']['divsepwid'])/obs_EstadoCivil['All']['All']\n",
        "\n",
        "esper_EstadoCivil['bueno']['married']=(obs_EstadoCivil['bueno']['All']*obs_EstadoCivil['All']['married'])/obs_EstadoCivil['All']['All']\n",
        "esper_EstadoCivil['malo']['married']=(obs_EstadoCivil['bueno']['All']*obs_EstadoCivil['All']['married'])/obs_EstadoCivil['All']['All']\n",
        "\n",
        "esper_EstadoCivil['bueno']['single']=(obs_EstadoCivil['bueno']['All']*obs_EstadoCivil['All']['single'])/obs_EstadoCivil['All']['All']\n",
        "esper_EstadoCivil['malo']['single']=(obs_EstadoCivil['bueno']['All']*obs_EstadoCivil['All']['single'])/obs_EstadoCivil['All']['All']\n",
        "\n",
        "\n",
        "        #Prueba chi-cuadrado\n",
        "observed = np.array([153,297,461,507,292,102])\n",
        "expected = np.array([225,225,484,484,197,197]) \n",
        "chisquare(observed, expected)\n",
        "#Power_divergenceResult(statistic=139.89031589545664, pvalue=1.88792185947729e-28)\n",
        "    \n",
        "    #FormaPagoSalarial\n",
        "        #Datos observados\n",
        "        #Tabla de contingencia RiesgodePago/ FormaPagoSalarial\n",
        "obs_FormaPagoSalarial=pd.crosstab(index=random_data_equilibrado['FormaPagoSalarial'],\n",
        "            columns=random_data_equilibrado['RiesgoDePago'], margins=True)\n",
        "\n",
        "         #Datos esperados\n",
        "esper_FormaPagoSalarial=obs_FormaPagoSalarial\n",
        "esper_FormaPagoSalarial['bueno']['monthly']=(obs_FormaPagoSalarial['bueno']['All']*obs_FormaPagoSalarial['All']['monthly'])/obs_FormaPagoSalarial['All']['All']\n",
        "esper_FormaPagoSalarial['malo']['monthly']=(obs_FormaPagoSalarial['bueno']['All']*obs_FormaPagoSalarial['All']['monthly'])/obs_FormaPagoSalarial['All']['All']\n",
        "\n",
        "esper_FormaPagoSalarial['bueno']['weekly']=(obs_FormaPagoSalarial['bueno']['All']*obs_FormaPagoSalarial['All']['weekly'])/obs_FormaPagoSalarial['All']['All']\n",
        "esper_FormaPagoSalarial['malo']['weekly']=(obs_FormaPagoSalarial['bueno']['All']*obs_FormaPagoSalarial['All']['weekly'])/obs_FormaPagoSalarial['All']['All']\n",
        "\n",
        "        #Prueba chi-cuadrado\n",
        "observed = np.array([483,359,423,547])\n",
        "expected = np.array([421,421,485,485]) \n",
        "chisquare(observed, expected)\n",
        "#Power_divergenceResult(statistic=34.11282905208512, pvalue=1.8754503745781636e-07) "
      ],
      "execution_count": 27,
      "outputs": [
        {
          "output_type": "execute_result",
          "data": {
            "text/plain": [
              "Power_divergenceResult(statistic=34.11282905208512, pvalue=1.8754503745781636e-07)"
            ]
          },
          "metadata": {
            "tags": []
          },
          "execution_count": 27
        }
      ]
    },
    {
      "cell_type": "markdown",
      "metadata": {
        "id": "LoieU1mgdYEO",
        "colab_type": "text"
      },
      "source": [
        "De la prueba chi cuadrado se observa que la variable genero no debe incluirse en el modelo, por lo que se procede a eliminarla"
      ]
    },
    {
      "cell_type": "code",
      "metadata": {
        "id": "SkveHq5WdYEO",
        "colab_type": "code",
        "colab": {
          "base_uri": "https://localhost:8080/",
          "height": 204
        },
        "outputId": "a026430c-3d5a-4e99-a8e5-bd2d1a021268"
      },
      "source": [
        "del random_data_equilibrado['Genero']\n",
        "random_data_equilibrado.head()"
      ],
      "execution_count": 28,
      "outputs": [
        {
          "output_type": "execute_result",
          "data": {
            "text/html": [
              "<div>\n",
              "<style scoped>\n",
              "    .dataframe tbody tr th:only-of-type {\n",
              "        vertical-align: middle;\n",
              "    }\n",
              "\n",
              "    .dataframe tbody tr th {\n",
              "        vertical-align: top;\n",
              "    }\n",
              "\n",
              "    .dataframe thead th {\n",
              "        text-align: right;\n",
              "    }\n",
              "</style>\n",
              "<table border=\"1\" class=\"dataframe\">\n",
              "  <thead>\n",
              "    <tr style=\"text-align: right;\">\n",
              "      <th></th>\n",
              "      <th>Edad</th>\n",
              "      <th>EstadoCivil</th>\n",
              "      <th>FormaPagoSalarial</th>\n",
              "      <th>Prestamos</th>\n",
              "      <th>RiesgoDePago</th>\n",
              "      <th>deudas</th>\n",
              "      <th>IngresosPorHijos</th>\n",
              "    </tr>\n",
              "  </thead>\n",
              "  <tbody>\n",
              "    <tr>\n",
              "      <th>3917</th>\n",
              "      <td>22</td>\n",
              "      <td>single</td>\n",
              "      <td>monthly</td>\n",
              "      <td>1.0</td>\n",
              "      <td>bueno</td>\n",
              "      <td>4.0</td>\n",
              "      <td>17.193</td>\n",
              "    </tr>\n",
              "    <tr>\n",
              "      <th>2537</th>\n",
              "      <td>34</td>\n",
              "      <td>married</td>\n",
              "      <td>monthly</td>\n",
              "      <td>1.0</td>\n",
              "      <td>bueno</td>\n",
              "      <td>5.0</td>\n",
              "      <td>44.617</td>\n",
              "    </tr>\n",
              "    <tr>\n",
              "      <th>213</th>\n",
              "      <td>36</td>\n",
              "      <td>married</td>\n",
              "      <td>monthly</td>\n",
              "      <td>1.0</td>\n",
              "      <td>bueno</td>\n",
              "      <td>3.0</td>\n",
              "      <td>0.000</td>\n",
              "    </tr>\n",
              "    <tr>\n",
              "      <th>2298</th>\n",
              "      <td>18</td>\n",
              "      <td>married</td>\n",
              "      <td>monthly</td>\n",
              "      <td>1.0</td>\n",
              "      <td>bueno</td>\n",
              "      <td>5.0</td>\n",
              "      <td>16.394</td>\n",
              "    </tr>\n",
              "    <tr>\n",
              "      <th>981</th>\n",
              "      <td>20</td>\n",
              "      <td>married</td>\n",
              "      <td>weekly</td>\n",
              "      <td>1.0</td>\n",
              "      <td>bueno</td>\n",
              "      <td>5.0</td>\n",
              "      <td>24.519</td>\n",
              "    </tr>\n",
              "  </tbody>\n",
              "</table>\n",
              "</div>"
            ],
            "text/plain": [
              "      Edad EstadoCivil FormaPagoSalarial  ...  RiesgoDePago deudas  IngresosPorHijos\n",
              "3917    22      single           monthly  ...         bueno    4.0            17.193\n",
              "2537    34     married           monthly  ...         bueno    5.0            44.617\n",
              "213     36     married           monthly  ...         bueno    3.0             0.000\n",
              "2298    18     married           monthly  ...         bueno    5.0            16.394\n",
              "981     20     married            weekly  ...         bueno    5.0            24.519\n",
              "\n",
              "[5 rows x 7 columns]"
            ]
          },
          "metadata": {
            "tags": []
          },
          "execution_count": 28
        }
      ]
    },
    {
      "cell_type": "markdown",
      "metadata": {
        "id": "TSLmM_gKdYER",
        "colab_type": "text"
      },
      "source": [
        "# Transformacion de variables categóricas a numéricas"
      ]
    },
    {
      "cell_type": "markdown",
      "metadata": {
        "id": "rv12jYIQdYER",
        "colab_type": "text"
      },
      "source": [
        "Por otro lado, debido a que para trabajar con python es necesario trabajar con variables de tipo numérica, se procede a cambiar el tipo de variable"
      ]
    },
    {
      "cell_type": "code",
      "metadata": {
        "id": "PQ8hh5uedYER",
        "colab_type": "code",
        "colab": {}
      },
      "source": [
        "#Cambio de variables de categoricas a numericas\n",
        "\n",
        "#Variable 'EstadoCivil'\n",
        "data_new = pd.get_dummies(random_data_equilibrado,columns=[\"EstadoCivil\"])"
      ],
      "execution_count": null,
      "outputs": []
    },
    {
      "cell_type": "code",
      "metadata": {
        "id": "qaRhHl4ndYET",
        "colab_type": "code",
        "colab": {}
      },
      "source": [
        "#Variable 'FormaPagoSalarial'\n",
        "#FormaPagoSalarial: 1 weekly; 0 monthly \n",
        "data_new1 = pd.get_dummies(data_new,columns=[\"FormaPagoSalarial\"],drop_first=True)"
      ],
      "execution_count": null,
      "outputs": []
    },
    {
      "cell_type": "code",
      "metadata": {
        "id": "29KVU6bAdYEV",
        "colab_type": "code",
        "colab": {}
      },
      "source": [
        "#Variable 'RiesgoDePago'\n",
        "#Riesgo de pago: 1 (Si): Si es riesgoso(Mal pagador); 0 (No): No es riesgoso(Buen pagador) \n",
        "data_1 = pd.get_dummies(data_new1,columns=[\"RiesgoDePago\"],drop_first=True)"
      ],
      "execution_count": null,
      "outputs": []
    },
    {
      "cell_type": "code",
      "metadata": {
        "scrolled": false,
        "id": "ywZgrDntdYEX",
        "colab_type": "code",
        "colab": {},
        "outputId": "df1122d3-5360-4d44-d441-887cb5dbfc45"
      },
      "source": [
        "data_1.head()"
      ],
      "execution_count": null,
      "outputs": [
        {
          "output_type": "execute_result",
          "data": {
            "text/html": [
              "<div>\n",
              "<style scoped>\n",
              "    .dataframe tbody tr th:only-of-type {\n",
              "        vertical-align: middle;\n",
              "    }\n",
              "\n",
              "    .dataframe tbody tr th {\n",
              "        vertical-align: top;\n",
              "    }\n",
              "\n",
              "    .dataframe thead th {\n",
              "        text-align: right;\n",
              "    }\n",
              "</style>\n",
              "<table border=\"1\" class=\"dataframe\">\n",
              "  <thead>\n",
              "    <tr style=\"text-align: right;\">\n",
              "      <th></th>\n",
              "      <th>Edad</th>\n",
              "      <th>Prestamos</th>\n",
              "      <th>deudas</th>\n",
              "      <th>IngresosPorHijos</th>\n",
              "      <th>EstadoCivil_divsepwid</th>\n",
              "      <th>EstadoCivil_married</th>\n",
              "      <th>EstadoCivil_single</th>\n",
              "      <th>FormaPagoSalarial_weekly</th>\n",
              "      <th>RiesgoDePago_malo</th>\n",
              "    </tr>\n",
              "  </thead>\n",
              "  <tbody>\n",
              "    <tr>\n",
              "      <td>3917</td>\n",
              "      <td>22</td>\n",
              "      <td>1.0</td>\n",
              "      <td>4.0</td>\n",
              "      <td>17.193</td>\n",
              "      <td>0</td>\n",
              "      <td>0</td>\n",
              "      <td>1</td>\n",
              "      <td>0</td>\n",
              "      <td>0</td>\n",
              "    </tr>\n",
              "    <tr>\n",
              "      <td>2537</td>\n",
              "      <td>34</td>\n",
              "      <td>1.0</td>\n",
              "      <td>5.0</td>\n",
              "      <td>44.617</td>\n",
              "      <td>0</td>\n",
              "      <td>1</td>\n",
              "      <td>0</td>\n",
              "      <td>0</td>\n",
              "      <td>0</td>\n",
              "    </tr>\n",
              "    <tr>\n",
              "      <td>213</td>\n",
              "      <td>36</td>\n",
              "      <td>1.0</td>\n",
              "      <td>3.0</td>\n",
              "      <td>0.000</td>\n",
              "      <td>0</td>\n",
              "      <td>1</td>\n",
              "      <td>0</td>\n",
              "      <td>0</td>\n",
              "      <td>0</td>\n",
              "    </tr>\n",
              "    <tr>\n",
              "      <td>2298</td>\n",
              "      <td>18</td>\n",
              "      <td>1.0</td>\n",
              "      <td>5.0</td>\n",
              "      <td>16.394</td>\n",
              "      <td>0</td>\n",
              "      <td>1</td>\n",
              "      <td>0</td>\n",
              "      <td>0</td>\n",
              "      <td>0</td>\n",
              "    </tr>\n",
              "    <tr>\n",
              "      <td>981</td>\n",
              "      <td>20</td>\n",
              "      <td>1.0</td>\n",
              "      <td>5.0</td>\n",
              "      <td>24.519</td>\n",
              "      <td>0</td>\n",
              "      <td>1</td>\n",
              "      <td>0</td>\n",
              "      <td>1</td>\n",
              "      <td>0</td>\n",
              "    </tr>\n",
              "  </tbody>\n",
              "</table>\n",
              "</div>"
            ],
            "text/plain": [
              "      Edad  Prestamos  deudas  IngresosPorHijos  EstadoCivil_divsepwid  \\\n",
              "3917    22        1.0     4.0            17.193                      0   \n",
              "2537    34        1.0     5.0            44.617                      0   \n",
              "213     36        1.0     3.0             0.000                      0   \n",
              "2298    18        1.0     5.0            16.394                      0   \n",
              "981     20        1.0     5.0            24.519                      0   \n",
              "\n",
              "      EstadoCivil_married  EstadoCivil_single  FormaPagoSalarial_weekly  \\\n",
              "3917                    0                   1                         0   \n",
              "2537                    1                   0                         0   \n",
              "213                     1                   0                         0   \n",
              "2298                    1                   0                         0   \n",
              "981                     1                   0                         1   \n",
              "\n",
              "      RiesgoDePago_malo  \n",
              "3917                  0  \n",
              "2537                  0  \n",
              "213                   0  \n",
              "2298                  0  \n",
              "981                   0  "
            ]
          },
          "metadata": {
            "tags": []
          },
          "execution_count": 20
        }
      ]
    },
    {
      "cell_type": "markdown",
      "metadata": {
        "id": "JAIX0ouOdYEZ",
        "colab_type": "text"
      },
      "source": [
        "# Particionamiento: split"
      ]
    },
    {
      "cell_type": "markdown",
      "metadata": {
        "id": "oI4ymQqHdYEZ",
        "colab_type": "text"
      },
      "source": [
        "Previo al analisis de los modelos, se procede a particionar la base en entrenamiento (60%), validacion (20%) y prueba (20%)."
      ]
    },
    {
      "cell_type": "code",
      "metadata": {
        "id": "66kguSeadYEa",
        "colab_type": "code",
        "colab": {}
      },
      "source": [
        "from sklearn.model_selection import train_test_split"
      ],
      "execution_count": 29,
      "outputs": []
    },
    {
      "cell_type": "code",
      "metadata": {
        "id": "cKne0VYbdYEb",
        "colab_type": "code",
        "colab": {}
      },
      "source": [
        "train,validate1=train_test_split(data_1,train_size=0.6, random_state = 1)"
      ],
      "execution_count": 31,
      "outputs": []
    },
    {
      "cell_type": "code",
      "metadata": {
        "id": "VrfeO1eCdYEd",
        "colab_type": "code",
        "colab": {}
      },
      "source": [
        "validate,test=train_test_split(validate1,train_size=0.5, random_state = 1)"
      ],
      "execution_count": 32,
      "outputs": []
    },
    {
      "cell_type": "code",
      "metadata": {
        "id": "ATKC8ohDdYEg",
        "colab_type": "code",
        "colab": {
          "base_uri": "https://localhost:8080/",
          "height": 316
        },
        "outputId": "77797c14-a604-4902-f2d3-f930c02f3c5e"
      },
      "source": [
        "#Data equilibrada\n",
        "frecuencia = pd.value_counts(train.RiesgoDePago_malo).to_frame().reset_index()\n",
        "frecuencia.rename(columns={\"index\":\"RiesgoDePago\",\"RiesgoDePago_malo\":\"Frecuencia\"})"
      ],
      "execution_count": 33,
      "outputs": [
        {
          "output_type": "error",
          "ename": "AttributeError",
          "evalue": "ignored",
          "traceback": [
            "\u001b[0;31m---------------------------------------------------------------------------\u001b[0m",
            "\u001b[0;31mAttributeError\u001b[0m                            Traceback (most recent call last)",
            "\u001b[0;32m<ipython-input-33-26036f9002f8>\u001b[0m in \u001b[0;36m<module>\u001b[0;34m()\u001b[0m\n\u001b[1;32m      1\u001b[0m \u001b[0;31m#Data equilibrada\u001b[0m\u001b[0;34m\u001b[0m\u001b[0;34m\u001b[0m\u001b[0;34m\u001b[0m\u001b[0m\n\u001b[0;32m----> 2\u001b[0;31m \u001b[0mfrecuencia\u001b[0m \u001b[0;34m=\u001b[0m \u001b[0mpd\u001b[0m\u001b[0;34m.\u001b[0m\u001b[0mvalue_counts\u001b[0m\u001b[0;34m(\u001b[0m\u001b[0mtrain\u001b[0m\u001b[0;34m.\u001b[0m\u001b[0mRiesgoDePago_malo\u001b[0m\u001b[0;34m)\u001b[0m\u001b[0;34m.\u001b[0m\u001b[0mto_frame\u001b[0m\u001b[0;34m(\u001b[0m\u001b[0;34m)\u001b[0m\u001b[0;34m.\u001b[0m\u001b[0mreset_index\u001b[0m\u001b[0;34m(\u001b[0m\u001b[0;34m)\u001b[0m\u001b[0;34m\u001b[0m\u001b[0;34m\u001b[0m\u001b[0m\n\u001b[0m\u001b[1;32m      3\u001b[0m \u001b[0mfrecuencia\u001b[0m\u001b[0;34m.\u001b[0m\u001b[0mrename\u001b[0m\u001b[0;34m(\u001b[0m\u001b[0mcolumns\u001b[0m\u001b[0;34m=\u001b[0m\u001b[0;34m{\u001b[0m\u001b[0;34m\"index\"\u001b[0m\u001b[0;34m:\u001b[0m\u001b[0;34m\"RiesgoDePago\"\u001b[0m\u001b[0;34m,\u001b[0m\u001b[0;34m\"RiesgoDePago_malo\"\u001b[0m\u001b[0;34m:\u001b[0m\u001b[0;34m\"Frecuencia\"\u001b[0m\u001b[0;34m}\u001b[0m\u001b[0;34m)\u001b[0m\u001b[0;34m\u001b[0m\u001b[0;34m\u001b[0m\u001b[0m\n",
            "\u001b[0;32m/usr/local/lib/python3.6/dist-packages/pandas/core/generic.py\u001b[0m in \u001b[0;36m__getattr__\u001b[0;34m(self, name)\u001b[0m\n\u001b[1;32m   5272\u001b[0m             \u001b[0;32mif\u001b[0m \u001b[0mself\u001b[0m\u001b[0;34m.\u001b[0m\u001b[0m_info_axis\u001b[0m\u001b[0;34m.\u001b[0m\u001b[0m_can_hold_identifiers_and_holds_name\u001b[0m\u001b[0;34m(\u001b[0m\u001b[0mname\u001b[0m\u001b[0;34m)\u001b[0m\u001b[0;34m:\u001b[0m\u001b[0;34m\u001b[0m\u001b[0;34m\u001b[0m\u001b[0m\n\u001b[1;32m   5273\u001b[0m                 \u001b[0;32mreturn\u001b[0m \u001b[0mself\u001b[0m\u001b[0;34m[\u001b[0m\u001b[0mname\u001b[0m\u001b[0;34m]\u001b[0m\u001b[0;34m\u001b[0m\u001b[0;34m\u001b[0m\u001b[0m\n\u001b[0;32m-> 5274\u001b[0;31m             \u001b[0;32mreturn\u001b[0m \u001b[0mobject\u001b[0m\u001b[0;34m.\u001b[0m\u001b[0m__getattribute__\u001b[0m\u001b[0;34m(\u001b[0m\u001b[0mself\u001b[0m\u001b[0;34m,\u001b[0m \u001b[0mname\u001b[0m\u001b[0;34m)\u001b[0m\u001b[0;34m\u001b[0m\u001b[0;34m\u001b[0m\u001b[0m\n\u001b[0m\u001b[1;32m   5275\u001b[0m \u001b[0;34m\u001b[0m\u001b[0m\n\u001b[1;32m   5276\u001b[0m     \u001b[0;32mdef\u001b[0m \u001b[0m__setattr__\u001b[0m\u001b[0;34m(\u001b[0m\u001b[0mself\u001b[0m\u001b[0;34m,\u001b[0m \u001b[0mname\u001b[0m\u001b[0;34m:\u001b[0m \u001b[0mstr\u001b[0m\u001b[0;34m,\u001b[0m \u001b[0mvalue\u001b[0m\u001b[0;34m)\u001b[0m \u001b[0;34m->\u001b[0m \u001b[0;32mNone\u001b[0m\u001b[0;34m:\u001b[0m\u001b[0;34m\u001b[0m\u001b[0;34m\u001b[0m\u001b[0m\n",
            "\u001b[0;31mAttributeError\u001b[0m: 'DataFrame' object has no attribute 'RiesgoDePago_malo'"
          ]
        }
      ]
    },
    {
      "cell_type": "code",
      "metadata": {
        "id": "Y-rqLsqfdYEi",
        "colab_type": "code",
        "colab": {},
        "outputId": "5b4e61f7-f885-4f0e-a702-2a1b2ada48cb"
      },
      "source": [
        "#Data equilibrada\n",
        "frecuencia = pd.value_counts(validate.RiesgoDePago_malo).to_frame().reset_index()\n",
        "frecuencia.rename(columns={\"index\":\"RiesgoDePago\",\"RiesgoDePago_malo\":\"Frecuencia\"})"
      ],
      "execution_count": null,
      "outputs": [
        {
          "output_type": "execute_result",
          "data": {
            "text/html": [
              "<div>\n",
              "<style scoped>\n",
              "    .dataframe tbody tr th:only-of-type {\n",
              "        vertical-align: middle;\n",
              "    }\n",
              "\n",
              "    .dataframe tbody tr th {\n",
              "        vertical-align: top;\n",
              "    }\n",
              "\n",
              "    .dataframe thead th {\n",
              "        text-align: right;\n",
              "    }\n",
              "</style>\n",
              "<table border=\"1\" class=\"dataframe\">\n",
              "  <thead>\n",
              "    <tr style=\"text-align: right;\">\n",
              "      <th></th>\n",
              "      <th>RiesgoDePago</th>\n",
              "      <th>Frecuencia</th>\n",
              "    </tr>\n",
              "  </thead>\n",
              "  <tbody>\n",
              "    <tr>\n",
              "      <td>0</td>\n",
              "      <td>1</td>\n",
              "      <td>183</td>\n",
              "    </tr>\n",
              "    <tr>\n",
              "      <td>1</td>\n",
              "      <td>0</td>\n",
              "      <td>179</td>\n",
              "    </tr>\n",
              "  </tbody>\n",
              "</table>\n",
              "</div>"
            ],
            "text/plain": [
              "   RiesgoDePago  Frecuencia\n",
              "0             1         183\n",
              "1             0         179"
            ]
          },
          "metadata": {
            "tags": []
          },
          "execution_count": 25
        }
      ]
    },
    {
      "cell_type": "code",
      "metadata": {
        "id": "RwoatPBldYEj",
        "colab_type": "code",
        "colab": {},
        "outputId": "289741a0-b0a9-48d2-f5dd-a80019d05554"
      },
      "source": [
        "#Data equilibrada\n",
        "frecuencia = pd.value_counts(test.RiesgoDePago_malo).to_frame().reset_index()\n",
        "frecuencia.rename(columns={\"index\":\"RiesgoDePago\",\"RiesgoDePago_malo\":\"Frecuencia\"})"
      ],
      "execution_count": null,
      "outputs": [
        {
          "output_type": "execute_result",
          "data": {
            "text/html": [
              "<div>\n",
              "<style scoped>\n",
              "    .dataframe tbody tr th:only-of-type {\n",
              "        vertical-align: middle;\n",
              "    }\n",
              "\n",
              "    .dataframe tbody tr th {\n",
              "        vertical-align: top;\n",
              "    }\n",
              "\n",
              "    .dataframe thead th {\n",
              "        text-align: right;\n",
              "    }\n",
              "</style>\n",
              "<table border=\"1\" class=\"dataframe\">\n",
              "  <thead>\n",
              "    <tr style=\"text-align: right;\">\n",
              "      <th></th>\n",
              "      <th>RiesgoDePago</th>\n",
              "      <th>Frecuencia</th>\n",
              "    </tr>\n",
              "  </thead>\n",
              "  <tbody>\n",
              "    <tr>\n",
              "      <td>0</td>\n",
              "      <td>0</td>\n",
              "      <td>187</td>\n",
              "    </tr>\n",
              "    <tr>\n",
              "      <td>1</td>\n",
              "      <td>1</td>\n",
              "      <td>176</td>\n",
              "    </tr>\n",
              "  </tbody>\n",
              "</table>\n",
              "</div>"
            ],
            "text/plain": [
              "   RiesgoDePago  Frecuencia\n",
              "0             0         187\n",
              "1             1         176"
            ]
          },
          "metadata": {
            "tags": []
          },
          "execution_count": 26
        }
      ]
    },
    {
      "cell_type": "markdown",
      "metadata": {
        "id": "WzJ3M8WodYEl",
        "colab_type": "text"
      },
      "source": [
        "# Entrada y salida q ingresarán a los modelos"
      ]
    },
    {
      "cell_type": "code",
      "metadata": {
        "id": "ctWqcvHKdYEm",
        "colab_type": "code",
        "colab": {}
      },
      "source": [
        "#x entrada\n",
        "x_train = train.values[:,0:8]\n",
        "x_validate = validate.values[:,0:8]\n",
        "x_test = test.values[:,0:8]\n",
        "#y targets\n",
        "y_train = train.values[:,8] #para cada fila, va a tener un valor \n",
        "y_validate = validate.values[:,8]\n",
        "y_test = test.values[:,8]"
      ],
      "execution_count": null,
      "outputs": []
    },
    {
      "cell_type": "markdown",
      "metadata": {
        "id": "y9e5qBF-dYEo",
        "colab_type": "text"
      },
      "source": [
        "## Escalar Variables"
      ]
    },
    {
      "cell_type": "markdown",
      "metadata": {
        "id": "WVrGSPBWdYEo",
        "colab_type": "text"
      },
      "source": [
        "Si observamos los datos detenidamente podemos apreciar que hay variables que contienen valores muy altos y otras que sólo toman valores 1 o 0. No queremos que ninguna variable domine a las demás por lo que escalaremos los datos."
      ]
    },
    {
      "cell_type": "code",
      "metadata": {
        "id": "yq9h1bG2dYEp",
        "colab_type": "code",
        "colab": {}
      },
      "source": [
        "from sklearn.preprocessing import StandardScaler\n",
        "sc = StandardScaler()\n",
        "x_train = sc.fit_transform(x_train)\n",
        "x_validate = sc.fit_transform(x_validate)\n",
        "x_test = sc.fit_transform(x_test)"
      ],
      "execution_count": null,
      "outputs": []
    },
    {
      "cell_type": "markdown",
      "metadata": {
        "id": "YN5wzT5LdYEq",
        "colab_type": "text"
      },
      "source": [
        "# Modelo:  Regresión logística\n",
        "\n",
        "Debido a que nuestro objetivo es clasificar a una persona en buen o mal pagador (Riesgo de Pago) de acuerdo a ciertas características (edad, ingresos por hijos, deudas, etc) una opción es utilizar un modelo de regresión logística."
      ]
    },
    {
      "cell_type": "code",
      "metadata": {
        "id": "_cnK3jZkdYEr",
        "colab_type": "code",
        "colab": {},
        "outputId": "e6bf4e67-9345-4711-a689-063c40702d64"
      },
      "source": [
        "#Regresion Logistica\n",
        "\n",
        "rl = LogisticRegression(penalty='l2',solver='sag',max_iter=50,random_state=1)#si esq es una regresion tendría que cambiar los parámetros\n",
        "\n",
        "#ajustar los datos\n",
        "rl.fit(x_train,y_train)\n",
        "score_rl = rl.score(x_train, y_train)\n",
        "#valor del score \n",
        "print('Precisión: {:.2f}'.format(score_rl))\n"
      ],
      "execution_count": null,
      "outputs": [
        {
          "output_type": "stream",
          "text": [
            "Precisión: 0.74\n"
          ],
          "name": "stdout"
        }
      ]
    },
    {
      "cell_type": "code",
      "metadata": {
        "id": "f8DzOS7bdYEt",
        "colab_type": "code",
        "colab": {},
        "outputId": "f2ae3683-cb93-41ce-e519-de3b3a9f03b1"
      },
      "source": [
        "#Matriz de confusion\n",
        "from sklearn.metrics import confusion_matrix\n",
        "y_pred = rl.predict(x_train)\n",
        "regresion_logistica_confusion_matrix_train = confusion_matrix(y_train, y_pred)\n",
        "print('Regresion Logistica: Matriz de confusion (Train)')\n",
        "print(regresion_logistica_confusion_matrix_train)"
      ],
      "execution_count": null,
      "outputs": [
        {
          "output_type": "stream",
          "text": [
            "Regresion Logistica: Matriz de confusion (Train)\n",
            "[[420 120]\n",
            " [165 382]]\n"
          ],
          "name": "stdout"
        }
      ]
    },
    {
      "cell_type": "code",
      "metadata": {
        "scrolled": true,
        "id": "MUP3N-_3dYEv",
        "colab_type": "code",
        "colab": {},
        "outputId": "3c64d9ef-7058-4aa7-e94b-3c41ec54cb70"
      },
      "source": [
        "# Reporte de clasificación.\n",
        "from sklearn.metrics import classification_report\n",
        "print(classification_report(y_train, y_pred))"
      ],
      "execution_count": null,
      "outputs": [
        {
          "output_type": "stream",
          "text": [
            "              precision    recall  f1-score   support\n",
            "\n",
            "         0.0       0.72      0.78      0.75       540\n",
            "         1.0       0.76      0.70      0.73       547\n",
            "\n",
            "    accuracy                           0.74      1087\n",
            "   macro avg       0.74      0.74      0.74      1087\n",
            "weighted avg       0.74      0.74      0.74      1087\n",
            "\n"
          ],
          "name": "stdout"
        }
      ]
    },
    {
      "cell_type": "code",
      "metadata": {
        "id": "eXNFTWT6dYEx",
        "colab_type": "code",
        "colab": {},
        "outputId": "9d4ae195-b051-4209-a7b7-6ef35d39a5b2"
      },
      "source": [
        "#Validacion\n",
        "#valor del score \n",
        "print('Precisión: {:.2f}'.format(rl.score(x_validate, y_validate)))"
      ],
      "execution_count": null,
      "outputs": [
        {
          "output_type": "stream",
          "text": [
            "Precisión: 0.74\n"
          ],
          "name": "stdout"
        }
      ]
    },
    {
      "cell_type": "code",
      "metadata": {
        "id": "Q9bSVPczdYEz",
        "colab_type": "code",
        "colab": {},
        "outputId": "9f086c3a-89a1-42be-bac6-c1ccead170a6"
      },
      "source": [
        "#Matriz de confusion\n",
        "from sklearn.metrics import confusion_matrix\n",
        "y_pred = rl.predict(x_validate)\n",
        "regresion_logistica_confusion_matrix_validate = confusion_matrix(y_validate, y_pred)\n",
        "print('Regresion Logistica: Matriz de confusion (Validate)')\n",
        "print(regresion_logistica_confusion_matrix_validate)"
      ],
      "execution_count": null,
      "outputs": [
        {
          "output_type": "stream",
          "text": [
            "Regresion Logistica: Matriz de confusion (Validate)\n",
            "[[137  42]\n",
            " [ 51 132]]\n"
          ],
          "name": "stdout"
        }
      ]
    },
    {
      "cell_type": "code",
      "metadata": {
        "scrolled": true,
        "id": "9Mr8KkeGdYE1",
        "colab_type": "code",
        "colab": {},
        "outputId": "06007490-5bc3-4c88-989b-9246c0d80278"
      },
      "source": [
        "# Reporte de clasificación.\n",
        "print(classification_report(y_validate, y_pred))"
      ],
      "execution_count": null,
      "outputs": [
        {
          "output_type": "stream",
          "text": [
            "              precision    recall  f1-score   support\n",
            "\n",
            "         0.0       0.73      0.77      0.75       179\n",
            "         1.0       0.76      0.72      0.74       183\n",
            "\n",
            "    accuracy                           0.74       362\n",
            "   macro avg       0.74      0.74      0.74       362\n",
            "weighted avg       0.74      0.74      0.74       362\n",
            "\n"
          ],
          "name": "stdout"
        }
      ]
    },
    {
      "cell_type": "code",
      "metadata": {
        "id": "5pvdaCQ2dYE3",
        "colab_type": "code",
        "colab": {},
        "outputId": "2d8ccef6-40c1-4eac-e870-da1f81fff1c2"
      },
      "source": [
        "#Prueba\n",
        "#valor del score \n",
        "print('Precisión: {:.2f}'.format(rl.score(x_test, y_test)))"
      ],
      "execution_count": null,
      "outputs": [
        {
          "output_type": "stream",
          "text": [
            "Precisión: 0.74\n"
          ],
          "name": "stdout"
        }
      ]
    },
    {
      "cell_type": "code",
      "metadata": {
        "id": "UXtjtjBbdYE5",
        "colab_type": "code",
        "colab": {},
        "outputId": "512c745d-3722-449c-f94b-4936fbe3c17b"
      },
      "source": [
        "#Matriz de confusion\n",
        "from sklearn.metrics import confusion_matrix\n",
        "y_pred = rl.predict(x_test)\n",
        "regresion_logistica_confusion_matrix_test = confusion_matrix(y_test, y_pred)\n",
        "print('Regresion Logistica: Matriz de confusion (Test)')\n",
        "print(regresion_logistica_confusion_matrix_test)"
      ],
      "execution_count": null,
      "outputs": [
        {
          "output_type": "stream",
          "text": [
            "Regresion Logistica: Matriz de confusion (Test)\n",
            "[[144  43]\n",
            " [ 51 125]]\n"
          ],
          "name": "stdout"
        }
      ]
    },
    {
      "cell_type": "code",
      "metadata": {
        "id": "xTr6nnY2dYE7",
        "colab_type": "code",
        "colab": {},
        "outputId": "de9bd24e-c9a2-444d-c762-af55ba107c29"
      },
      "source": [
        "# Reporte de clasificación.\n",
        "print(classification_report(y_test, y_pred))"
      ],
      "execution_count": null,
      "outputs": [
        {
          "output_type": "stream",
          "text": [
            "              precision    recall  f1-score   support\n",
            "\n",
            "         0.0       0.74      0.77      0.75       187\n",
            "         1.0       0.74      0.71      0.73       176\n",
            "\n",
            "    accuracy                           0.74       363\n",
            "   macro avg       0.74      0.74      0.74       363\n",
            "weighted avg       0.74      0.74      0.74       363\n",
            "\n"
          ],
          "name": "stdout"
        }
      ]
    },
    {
      "cell_type": "markdown",
      "metadata": {
        "id": "AC-CBgl3dYE9",
        "colab_type": "text"
      },
      "source": [
        "# GRÁFICOS DE DISTRIBUCIÓN\n",
        "Previo a la construcción del modelo, se procede a observar los siguiente gráficos."
      ]
    },
    {
      "cell_type": "code",
      "metadata": {
        "id": "twCppWoNdYE9",
        "colab_type": "code",
        "colab": {}
      },
      "source": [
        "import plotnine as p9"
      ],
      "execution_count": null,
      "outputs": []
    },
    {
      "cell_type": "markdown",
      "metadata": {
        "id": "233JTw2mdYE_",
        "colab_type": "text"
      },
      "source": [
        "Edad- IngresosPor Hijos (RiesgodePago)"
      ]
    },
    {
      "cell_type": "code",
      "metadata": {
        "id": "TvXZ7BbRdYE_",
        "colab_type": "code",
        "colab": {},
        "outputId": "7921528d-cfcb-4d7a-fd52-725ec6cd7220"
      },
      "source": [
        "# Crea un marco para el gráfico definiendo las variables\n",
        "surveys_plot = p9.ggplot(data=random_data_equilibrado,\n",
        "                         mapping=p9.aes(x='IngresosPorHijos', y='Edad',\n",
        "                          color='RiesgoDePago'))\n",
        "\n",
        "# Dibuja los puntos en el marco\n",
        "surveys_plot + p9.geom_point()"
      ],
      "execution_count": null,
      "outputs": [
        {
          "output_type": "display_data",
          "data": {
            "image/png": "[encoded data removed]",
            "text/plain": [
              "<Figure size 640x480 with 1 Axes>"
            ]
          },
          "metadata": {
            "tags": []
          }
        },
        {
          "output_type": "execute_result",
          "data": {
            "text/plain": [
              "<ggplot: (-9223371937508987656)>"
            ]
          },
          "metadata": {
            "tags": []
          },
          "execution_count": 39
        }
      ]
    },
    {
      "cell_type": "markdown",
      "metadata": {
        "id": "RXnbgjr0dYFC",
        "colab_type": "text"
      },
      "source": [
        "Edad-deudas (RiesgodePago)"
      ]
    },
    {
      "cell_type": "code",
      "metadata": {
        "id": "8y64hElmdYFD",
        "colab_type": "code",
        "colab": {},
        "outputId": "9118695e-bef0-4f68-938b-2ea40b5d4710"
      },
      "source": [
        "# Crea un marco para el gráfico definiendo las variables\n",
        "surveys_plot = p9.ggplot(data=random_data_equilibrado,\n",
        "                         mapping=p9.aes(x='Edad', y='deudas',\n",
        "                          color='RiesgoDePago'))\n",
        "\n",
        "# Dibuja los puntos en el marco\n",
        "surveys_plot + p9.geom_point()"
      ],
      "execution_count": null,
      "outputs": [
        {
          "output_type": "display_data",
          "data": {
            "image/png": "[encoded data removed]",
            "text/plain": [
              "<Figure size 640x480 with 1 Axes>"
            ]
          },
          "metadata": {
            "tags": []
          }
        },
        {
          "output_type": "execute_result",
          "data": {
            "text/plain": [
              "<ggplot: (-9223371937508957636)>"
            ]
          },
          "metadata": {
            "tags": []
          },
          "execution_count": 40
        }
      ]
    },
    {
      "cell_type": "markdown",
      "metadata": {
        "id": "VnhJ3YLadYFF",
        "colab_type": "text"
      },
      "source": [
        "Prestamos-IngresosPorHijos(RiesgoDePago)"
      ]
    },
    {
      "cell_type": "code",
      "metadata": {
        "scrolled": true,
        "id": "9i1XnrCIdYFG",
        "colab_type": "code",
        "colab": {},
        "outputId": "80f818d9-0b43-43c0-e4ed-1b1af6fe5d9e"
      },
      "source": [
        "# Crea un marco para el gráfico definiendo las variables\n",
        "surveys_plot = p9.ggplot(data=random_data_equilibrado,\n",
        "                         mapping=p9.aes(x='Prestamos', y='IngresosPorHijos',\n",
        "                          color='RiesgoDePago'))\n",
        "\n",
        "# Dibuja los puntos en el marco\n",
        "surveys_plot + p9.geom_point()"
      ],
      "execution_count": null,
      "outputs": [
        {
          "output_type": "display_data",
          "data": {
            "image/png": "[encoded data removed]",
            "text/plain": [
              "<Figure size 640x480 with 1 Axes>"
            ]
          },
          "metadata": {
            "tags": []
          }
        },
        {
          "output_type": "execute_result",
          "data": {
            "text/plain": [
              "<ggplot: (-9223371937508809980)>"
            ]
          },
          "metadata": {
            "tags": []
          },
          "execution_count": 41
        }
      ]
    },
    {
      "cell_type": "markdown",
      "metadata": {
        "id": "8lEx005HdYFJ",
        "colab_type": "text"
      },
      "source": [
        "# Modelo: Red Neuronal"
      ]
    },
    {
      "cell_type": "code",
      "metadata": {
        "id": "wWuAypQNdYFK",
        "colab_type": "code",
        "colab": {}
      },
      "source": [
        "from sklearn.model_selection import KFold \n",
        "from keras.wrappers.scikit_learn import KerasRegressor\n",
        "from sklearn.preprocessing import StandardScaler\n",
        "from sklearn.pipeline import Pipeline \n",
        "from sklearn.model_selection import cross_val_score "
      ],
      "execution_count": null,
      "outputs": []
    },
    {
      "cell_type": "markdown",
      "metadata": {
        "id": "RuLqndlsdYFM",
        "colab_type": "text"
      },
      "source": [
        "Como se observan en las gráficas antes presentadas, no se debe trabajar con una función de activación lineal, por lo que, se trabaja con sigmoidal, tangencial o hasta una softmax"
      ]
    },
    {
      "cell_type": "markdown",
      "metadata": {
        "id": "m9SNrCy0dYFM",
        "colab_type": "text"
      },
      "source": [
        "Capa de salida : Tangencias\n",
        "\n",
        "Capa oculta: Sigmoides"
      ]
    },
    {
      "cell_type": "code",
      "metadata": {
        "scrolled": false,
        "id": "aePFwHgVdYFM",
        "colab_type": "code",
        "colab": {},
        "outputId": "7258bf2d-51b3-41ca-d8a9-3e735eb0e672"
      },
      "source": [
        "#Red neuronal.\n",
        "\n",
        "#Utilizando Redes neuronales, puedo meter muchas capas y puedo manipular\n",
        "modelo = Sequential()\n",
        "modelo.add(Dense(3,input_dim=8,kernel_regularizer=l2(0.),activation='tanh'))#Capa de salida\n",
        "modelo.add(Dense(1,kernel_regularizer=l2(0.),activation='sigmoid'))#Capa oculta \n",
        "modelo.compile(loss='binary_crossentropy',optimizer='adam',metrics=['acc'])\n",
        "#modelo.fit(x_train,y_train,validation_split=0.33,epochs=25,batch_size=10,verbose=0)\n",
        "history =modelo.fit(x_train,y_train,validation_split=0.33,epochs=25,batch_size=10,verbose=0)\n",
        "print(history.history.keys())\n",
        "\n",
        "# summarize history for accuracy\n",
        "plt.plot(history.history['acc'])\n",
        "plt.plot(history.history['val_acc'])\n",
        "plt.title('model accuracy')\n",
        "plt.ylabel('acc')\n",
        "plt.xlabel('epoch')\n",
        "plt.legend(['train', 'test'], loc='upper left')\n",
        "plt.show()\n",
        "# summarize history for loss\n",
        "plt.plot(history.history['loss'])\n",
        "plt.plot(history.history['val_loss'])\n",
        "plt.title('model loss')\n",
        "plt.ylabel('loss')\n",
        "plt.xlabel('epoch')\n",
        "plt.legend(['train', 'test'], loc='upper left')\n",
        "plt.show()\n",
        "\n",
        "\n",
        "print( \"******Entrenamiento*******\")\n",
        "#Evaluacion del modelo\n",
        "scores = modelo.evaluate(x_train,y_train)\n",
        "print(\"Red Neuronal - Precision: \\n%s: %.2f%%\" % (modelo.metrics_names[1], scores[1]*100))#Accuracy (exactitud)\n",
        "print(\"Red Neuronal - Perdida: \\n%s: %.2f%%\" % (modelo.metrics_names[0], scores[0]*100))#Perdida\n",
        "\n",
        "\n",
        "\n",
        "#Matriz de confusion\n",
        "#Entrenamiento\n",
        "from sklearn.metrics import confusion_matrix\n",
        "y_pred_train = modelo.predict(x_train)\n",
        "# redondeamos las predicciones\n",
        "rounded_y_pred_train = [round(x[0]) for x in y_pred_train]\n",
        "red_neuronal_confusion_matrix_train = confusion_matrix(y_train, rounded_y_pred_train)\n",
        "print('Red Neuronal: Matriz de confusion (Train)')\n",
        "print(red_neuronal_confusion_matrix_train)\n",
        "\n",
        "#Validacion\n",
        "print( \"*******Validate*******\")\n",
        "\n",
        "y_pred_validate = modelo.predict(x_validate)\n",
        "# redondeamos las predicciones\n",
        "rounded_y_pred_validate = [round(x[0]) for x in y_pred_validate]\n",
        "scores_validate = modelo.evaluate(x_validate,y_validate)\n",
        "print(\"Red Neuronal - Precision: \\n%s: %.2f%%\" % (modelo.metrics_names[1], scores_validate[1]*100))#Accuracy (exactitud)\n",
        "print(\"Red Neuronal - Perdida: \\n%s: %.2f%%\" % (modelo.metrics_names[0], scores_validate[0]*100))#Perdida\n",
        "\n",
        "\n",
        "#matriz de confusion\n",
        "red_neuronal_confusion_matrix_validate = confusion_matrix(y_validate, rounded_y_pred_validate)\n",
        "print('Red Neuronal: Matriz de confusion (Validate)')\n",
        "print(red_neuronal_confusion_matrix_validate)\n",
        "\n",
        "\n",
        "print( \"*******Test*******\")\n",
        "\n",
        "#Prueba\n",
        "y_pred_test = modelo.predict(x_test)\n",
        "# redondeamos las predicciones\n",
        "rounded_y_pred_test = [round(x[0]) for x in y_pred_test]\n",
        "\n",
        "scores_test = modelo.evaluate(x_test,y_test)\n",
        "print(\"Red Neuronal - Precision: \\n%s: %.2f%%\" % (modelo.metrics_names[1], scores_test[1]*100))#Accuracy (exactitud)\n",
        "print(\"Red Neuronal - Perdida: \\n%s: %.2f%%\" % (modelo.metrics_names[0], scores_test[0]*100))#Perdida\n",
        "\n",
        "\n",
        "red_neuronal_confusion_matrix_test = confusion_matrix(y_test, rounded_y_pred_test)\n",
        "print('Red Neuronal: Matriz de confusion (Test)')\n",
        "print(red_neuronal_confusion_matrix_test)\n",
        "   \n"
      ],
      "execution_count": null,
      "outputs": [
        {
          "output_type": "stream",
          "text": [
            "WARNING:tensorflow:From C:\\Users\\Usuario\\Anaconda3\\lib\\site-packages\\tensorflow\\python\\framework\\op_def_library.py:263: colocate_with (from tensorflow.python.framework.ops) is deprecated and will be removed in a future version.\n",
            "Instructions for updating:\n",
            "Colocations handled automatically by placer.\n",
            "WARNING:tensorflow:From C:\\Users\\Usuario\\Anaconda3\\lib\\site-packages\\tensorflow\\python\\ops\\math_ops.py:3066: to_int32 (from tensorflow.python.ops.math_ops) is deprecated and will be removed in a future version.\n",
            "Instructions for updating:\n",
            "Use tf.cast instead.\n",
            "dict_keys(['val_loss', 'val_acc', 'loss', 'acc'])\n"
          ],
          "name": "stdout"
        },
        {
          "output_type": "display_data",
          "data": {
            "image/png": "[encoded data removed]",
            "text/plain": [
              "<Figure size 432x288 with 1 Axes>"
            ]
          },
          "metadata": {
            "tags": [],
            "needs_background": "light"
          }
        },
        {
          "output_type": "display_data",
          "data": {
            "image/png": "[encoded data removed]",
            "text/plain": [
              "<Figure size 432x288 with 1 Axes>"
            ]
          },
          "metadata": {
            "tags": [],
            "needs_background": "light"
          }
        },
        {
          "output_type": "stream",
          "text": [
            "******Entrenamiento*******\n",
            "1087/1087 [==============================] - 0s 19us/step\n",
            "Red Neuronal - Precision: \n",
            "acc: 74.89%\n",
            "Red Neuronal - Perdida: \n",
            "loss: 54.65%\n",
            "Red Neuronal: Matriz de confusion (Train)\n",
            "[[409 131]\n",
            " [142 405]]\n",
            "*******Validate*******\n",
            "362/362 [==============================] - 0s 22us/step\n",
            "Red Neuronal - Precision: \n",
            "acc: 72.38%\n",
            "Red Neuronal - Perdida: \n",
            "loss: 56.59%\n",
            "Red Neuronal: Matriz de confusion (Validate)\n",
            "[[128  51]\n",
            " [ 49 134]]\n",
            "*******Test*******\n",
            "363/363 [==============================] - 0s 19us/step\n",
            "Red Neuronal - Precision: \n",
            "acc: 73.28%\n",
            "Red Neuronal - Perdida: \n",
            "loss: 57.37%\n",
            "Red Neuronal: Matriz de confusion (Test)\n",
            "[[137  50]\n",
            " [ 47 129]]\n"
          ],
          "name": "stdout"
        }
      ]
    },
    {
      "cell_type": "markdown",
      "metadata": {
        "id": "PULgM4-TdYFO",
        "colab_type": "text"
      },
      "source": [
        "# SVM"
      ]
    },
    {
      "cell_type": "code",
      "metadata": {
        "id": "7ONNaTmydYFO",
        "colab_type": "code",
        "colab": {}
      },
      "source": [
        "from sklearn.svm import SVC\n",
        "from sklearn import svm, datasets"
      ],
      "execution_count": null,
      "outputs": []
    },
    {
      "cell_type": "code",
      "metadata": {
        "scrolled": true,
        "id": "evpXOLVQdYFP",
        "colab_type": "code",
        "colab": {},
        "outputId": "a6c38e6f-49ff-4f12-87d1-4f7832f4c11c"
      },
      "source": [
        "svclassifier = SVC(kernel = 'rbf', gamma = 'auto')  \n",
        "svclassifier.fit(x_train, y_train)\n",
        "\n",
        "rounded_y_pred_test = svclassifier.predict(x_test)\n",
        "\n",
        "\n",
        "from sklearn.metrics import confusion_matrix\n",
        "# redondeamos las predicciones\n",
        "rounded_y_pred_test = svclassifier.predict(x_test)\n",
        "SVM_confusion_matrix_test = confusion_matrix(y_test,rounded_y_pred_test)\n",
        "\n",
        "print('SVM: Matriz de confusion')\n",
        "print(SVM_confusion_matrix_test)\n",
        "\n",
        "print('****Reporte Clasificacion***')\n",
        "print(classification_report(y_test,rounded_y_pred_test))"
      ],
      "execution_count": null,
      "outputs": [
        {
          "output_type": "stream",
          "text": [
            "SVM: Matriz de confusion\n",
            "[[153  34]\n",
            " [ 55 121]]\n",
            "****Reporte Clasificacion***\n",
            "              precision    recall  f1-score   support\n",
            "\n",
            "         0.0       0.74      0.82      0.77       187\n",
            "         1.0       0.78      0.69      0.73       176\n",
            "\n",
            "    accuracy                           0.75       363\n",
            "   macro avg       0.76      0.75      0.75       363\n",
            "weighted avg       0.76      0.75      0.75       363\n",
            "\n"
          ],
          "name": "stdout"
        }
      ]
    },
    {
      "cell_type": "code",
      "metadata": {
        "id": "kGEFbAgodYFR",
        "colab_type": "code",
        "colab": {},
        "outputId": "681a9b8b-c7f7-49b1-947b-98f3165ad950"
      },
      "source": [
        "# redondeamos las predicciones\n",
        "rounded_y_pred_validate = svclassifier.predict(x_validate)\n",
        "SVM_confusion_matrix_validate = confusion_matrix(y_validate,rounded_y_pred_validate)\n",
        "print('SVM: Matriz de confusion')\n",
        "print(SVM_confusion_matrix_validate)\n",
        "\n",
        "print('****Reporte Clasificacion***')\n",
        "print(classification_report(y_validate,rounded_y_pred_validate))"
      ],
      "execution_count": null,
      "outputs": [
        {
          "output_type": "stream",
          "text": [
            "SVM: Matriz de confusion\n",
            "[[143  36]\n",
            " [ 51 132]]\n",
            "****Reporte Clasificacion***\n",
            "              precision    recall  f1-score   support\n",
            "\n",
            "         0.0       0.74      0.80      0.77       179\n",
            "         1.0       0.79      0.72      0.75       183\n",
            "\n",
            "    accuracy                           0.76       362\n",
            "   macro avg       0.76      0.76      0.76       362\n",
            "weighted avg       0.76      0.76      0.76       362\n",
            "\n"
          ],
          "name": "stdout"
        }
      ]
    },
    {
      "cell_type": "markdown",
      "metadata": {
        "id": "6LJv3LwbdYFT",
        "colab_type": "text"
      },
      "source": [
        "# MODELO: KNN"
      ]
    },
    {
      "cell_type": "code",
      "metadata": {
        "id": "tDqKsfrIdYFT",
        "colab_type": "code",
        "colab": {}
      },
      "source": [
        "import numpy as np\n",
        "import pandas as pd\n",
        "import matplotlib.pyplot as plt\n",
        "from matplotlib.colors import ListedColormap\n",
        "from sklearn.model_selection import train_test_split\n",
        "from sklearn.preprocessing import MinMaxScaler\n",
        "from sklearn.neighbors import KNeighborsClassifier\n",
        "from sklearn.metrics import confusion_matrix\n",
        "from sklearn.metrics import classification_report"
      ],
      "execution_count": null,
      "outputs": []
    },
    {
      "cell_type": "code",
      "metadata": {
        "id": "1QnabzHKdYFV",
        "colab_type": "code",
        "colab": {}
      },
      "source": [
        "#escalar\n",
        "scaler = MinMaxScaler()\n",
        "x_train = scaler.fit_transform(x_train)\n",
        "x_test = scaler.fit_transform(x_test)"
      ],
      "execution_count": null,
      "outputs": []
    },
    {
      "cell_type": "code",
      "metadata": {
        "id": "LGie37K-dYFZ",
        "colab_type": "code",
        "colab": {},
        "outputId": "b644f68d-1855-4662-9d94-6dcbcd8651c5"
      },
      "source": [
        "#modelo knn\n",
        "n_k = 13\n",
        "knn = KNeighborsClassifier(n_k)\n",
        "\n",
        "knn.fit(x_train, y_train)"
      ],
      "execution_count": null,
      "outputs": [
        {
          "output_type": "execute_result",
          "data": {
            "text/plain": [
              "KNeighborsClassifier(algorithm='auto', leaf_size=30, metric='minkowski',\n",
              "                     metric_params=None, n_jobs=None, n_neighbors=13, p=2,\n",
              "                     weights='uniform')"
            ]
          },
          "metadata": {
            "tags": []
          },
          "execution_count": 49
        }
      ]
    },
    {
      "cell_type": "code",
      "metadata": {
        "id": "lqn0mpa6dYFb",
        "colab_type": "code",
        "colab": {},
        "outputId": "c491a239-0988-4791-e55d-b20e7cb12af1"
      },
      "source": [
        "KNN_score = knn.score(x_train, y_train)\n",
        "print(\"KNN - Precision (Train): \", KNN_score)"
      ],
      "execution_count": null,
      "outputs": [
        {
          "output_type": "stream",
          "text": [
            "KNN - Precision (Train):  0.764489420423183\n"
          ],
          "name": "stdout"
        }
      ]
    },
    {
      "cell_type": "code",
      "metadata": {
        "id": "HorY4e_SdYFd",
        "colab_type": "code",
        "colab": {},
        "outputId": "59055003-387f-4a7e-ae3b-d65f2a1af9ac"
      },
      "source": [
        "KNN_scoreTest = knn.score(x_test, y_test)\n",
        "print(\"KNN - Precision (Test): \", KNN_scoreTest)"
      ],
      "execution_count": null,
      "outputs": [
        {
          "output_type": "stream",
          "text": [
            "KNN - Precision (Test):  0.7410468319559229\n"
          ],
          "name": "stdout"
        }
      ]
    },
    {
      "cell_type": "code",
      "metadata": {
        "id": "Fy5d41zldYFe",
        "colab_type": "code",
        "colab": {},
        "outputId": "1ba863f0-9175-4101-ad14-5535a7218476"
      },
      "source": [
        "KNN_predict = knn.predict(x_test)\n",
        "KNN_confusion_matrix_test = confusion_matrix(y_test, KNN_predict)\n",
        "print('KNN: Matriz de confusion (Test)')\n",
        "print(KNN_confusion_matrix_test)"
      ],
      "execution_count": null,
      "outputs": [
        {
          "output_type": "stream",
          "text": [
            "KNN: Matriz de confusion (Test)\n",
            "[[149  38]\n",
            " [ 56 120]]\n"
          ],
          "name": "stdout"
        }
      ]
    },
    {
      "cell_type": "code",
      "metadata": {
        "id": "VHx9-WNKdYFf",
        "colab_type": "code",
        "colab": {},
        "outputId": "12491e0d-09af-4119-b1b9-e4820fcab20c"
      },
      "source": [
        "print(classification_report(y_test, KNN_predict))"
      ],
      "execution_count": null,
      "outputs": [
        {
          "output_type": "stream",
          "text": [
            "              precision    recall  f1-score   support\n",
            "\n",
            "         0.0       0.73      0.80      0.76       187\n",
            "         1.0       0.76      0.68      0.72       176\n",
            "\n",
            "    accuracy                           0.74       363\n",
            "   macro avg       0.74      0.74      0.74       363\n",
            "weighted avg       0.74      0.74      0.74       363\n",
            "\n"
          ],
          "name": "stdout"
        }
      ]
    },
    {
      "cell_type": "code",
      "metadata": {
        "id": "TtJ05pW-dYFg",
        "colab_type": "code",
        "colab": {},
        "outputId": "60950366-ed08-48c7-e12f-7f54c9c69f31"
      },
      "source": [
        "#¿cuantos k necesito para hacer el modelo knn? con el error me marca 4 pero con la precision de 15\n",
        "\n",
        "k_range = range(1,20)\n",
        "scores = []    #creo una lista para ir haciendo un append\n",
        "for k in k_range:\n",
        "    \n",
        "    knn=knn=KNeighborsClassifier(n_neighbors =k)\n",
        "    knn.fit(x_train,y_train)\n",
        "    scores.append(knn.score(x_test, y_test)) # saco el accuracy directo o podría sacar el error medio cuadrático\n",
        "    \n",
        "plt.figure()\n",
        "plt.xlabel('k')\n",
        "plt.ylabel('acc')\n",
        "\n",
        "plt.scatter(k_range,scores)\n",
        "\n",
        "plt.xticks([0,5,10,15,20])\n",
        "\n",
        "plt.show()"
      ],
      "execution_count": null,
      "outputs": [
        {
          "output_type": "display_data",
          "data": {
            "image/png": "[encoded data removed]",
            "text/plain": [
              "<Figure size 432x288 with 1 Axes>"
            ]
          },
          "metadata": {
            "tags": [],
            "needs_background": "light"
          }
        }
      ]
    },
    {
      "cell_type": "code",
      "metadata": {
        "id": "1MzU6teJdYFi",
        "colab_type": "code",
        "colab": {}
      },
      "source": [
        "from IPython.display import Image"
      ],
      "execution_count": null,
      "outputs": []
    },
    {
      "cell_type": "code",
      "metadata": {
        "id": "nAcHkkMHdYFk",
        "colab_type": "code",
        "colab": {},
        "outputId": "ff2d72ff-7557-4805-c505-6a402b63a71e"
      },
      "source": [
        "Image(\"ModelosCuadro.png\")"
      ],
      "execution_count": null,
      "outputs": [
        {
          "output_type": "execute_result",
          "data": {
            "image/png": "[encoded data removed]",
            "text/plain": [
              "<IPython.core.display.Image object>"
            ]
          },
          "metadata": {
            "tags": []
          },
          "execution_count": 55
        }
      ]
    },
    {
      "cell_type": "code",
      "metadata": {
        "id": "fmcxihFYdYFm",
        "colab_type": "code",
        "colab": {}
      },
      "source": [
        ""
      ],
      "execution_count": null,
      "outputs": []
    }
  ]
}